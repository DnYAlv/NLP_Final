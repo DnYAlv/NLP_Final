{
  "nbformat": 4,
  "nbformat_minor": 0,
  "metadata": {
    "colab": {
      "name": "1_Problem_Statement.ipynb",
      "provenance": []
    },
    "kernelspec": {
      "name": "python3",
      "display_name": "Python 3"
    },
    "language_info": {
      "name": "python"
    }
  },
  "cells": [
    {
      "cell_type": "markdown",
      "source": [
        "# Coronavirus tweets NLP - Text Classification\n",
        "\n",
        "## Problem Statement\n",
        "\n",
        "### Context\n",
        "Coronavirus is a virus that widely spread world-wide. The massive spread causes a pandemic and forces all people to stay at home during this pandemic. Many people sharing their thought in social media such as twitter about this pandemic era, whether its positve, neutral, or negative reviews.\n",
        "\n",
        "Through this project, the machine learning model has a task to classify a sentiment from twitter tweets, whether it classified as positive reviews, neutral reviews, or negative reviews (Further step in this project also includes the \"Extremely positive\" and \"Extremely negative\" Reviews). \n",
        "\n",
        "The dataset contains feature mostly on tweets (comment) on twitter which will be processed with Natural Language Processing approach and will beused to classify the sentiment.\n",
        "\n",
        "### Objective\n",
        "The objective for this project is to predict the classified sentiment, whether its positive reviews, neutral reviews, or negative reviews.\n",
        "\n",
        "### Output\n",
        "The output of this Machine Learning project is about sentiment prediction from given tweets as its input.\n",
        "\n",
        "### Machine Learning Task\n",
        "Coronavirus tweet text classification Machine Learning project will be using a **Supervised Learning** approach since the dataset have past target variables data (\"Sentiment\") and will be used to train our model and predict future unseen data.\n",
        "\n",
        "### Performance Measurement\n",
        "This Machine Learning project task basically in **Classification** task. Therefore, the measurement of its performance will be such metrics like F1-Score, Confusion Matrix, Precision, and Recall.\n",
        "\n",
        "### Acknowledge\n",
        "The dataset used for this project taken from Kaggle.\n",
        "[Coronavirus tweets - Text Classification](https://www.kaggle.com/datasets/datatattle/covid-19-nlp-text-classification)\n"
      ],
      "metadata": {
        "id": "aTBlezdo3gVv"
      }
    }
  ]
}