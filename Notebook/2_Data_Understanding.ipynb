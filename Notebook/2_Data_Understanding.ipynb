{
  "nbformat": 4,
  "nbformat_minor": 0,
  "metadata": {
    "colab": {
      "name": "2_Data_Understanding.ipynb",
      "provenance": []
    },
    "kernelspec": {
      "name": "python3",
      "display_name": "Python 3"
    },
    "language_info": {
      "name": "python"
    }
  },
  "cells": [
    {
      "cell_type": "markdown",
      "source": [
        "# Data Understanding\n",
        "Coronavirus has been spread world-wide and forced a lot of people to stay at home. Many people spread their opinion about this pandemic through social media like Twitter. From twitter, we can find out how people feels, whether its a positive sentiments, neutral sentiments, or negative sentiments.\n",
        "\n",
        "The dataset can be accessed for [Kaggle](https://www.kaggle.com/datasets/datatattle/covid-19-nlp-text-classification).\n",
        "\n",
        "# Data Overview\n",
        "Dataset Statistics    | Count  | Variable Types | Count|\n",
        "----------------------|--------|----------------|------|\n",
        "Number of Variables   |   6    | Numeric| 2 |\n",
        "Number of Observations|  41157 | Categorical | 4 |\n",
        "Missing Cells         |8590    |\n",
        "Missing Cells (%)     | 3.5%   |\n",
        "Duplicate Rows        | 0      |\n",
        "Duplicate Rows (%)    | 0.0%   |\n",
        "Total size in memory  | 1.9 MiB|\n",
        "Average record size in memory| 48.0 B|\n",
        "\n",
        "# Columns Explanation\n",
        "No | Feature | Data Type | Zeros (%) | Null(%) | Distinct (%)| Description |\n",
        "---|---------|-----------|-----------|---------|-------------|-------------|\n",
        "1  | UserName | int64    | 0%        | 0%      | 100%        | User id Index |\n",
        "2  | ScreenName| int64   | 0%        | 0%      | 100%        | Id Index |\n",
        "3  | Location | Object   | 0%        | 20.9 %  | 37.5%       | Location where the tweets being tweeted|\n",
        "4  | TweetAt  | Object   | 0%        | 0%      | 0.1%        | Dates about when the tweets being tweeted|\n",
        "5  | OriginalTweet | Object | 0%     | 0%      | 100%        | Tweets that contains text data about reviews |\n",
        "6  | Sentiment   | Object | 0%       | 0%      | 0.1%        | Sentiments produced from given tweets |"
      ],
      "metadata": {
        "id": "3NtCL0RDtlJn"
      }
    }
  ]
}